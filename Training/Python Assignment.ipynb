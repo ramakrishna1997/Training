{
 "cells": [
  {
   "cell_type": "code",
   "execution_count": 1,
   "id": "1795c152",
   "metadata": {},
   "outputs": [
    {
     "name": "stdout",
     "output_type": "stream",
     "text": [
      "10\n",
      "11.2\n",
      "(2+1j)\n",
      "\n",
      "\n",
      "<class 'int'>\n",
      "<class 'float'>\n",
      "<class 'complex'>\n"
     ]
    }
   ],
   "source": [
    "#1.\tWrite a program to demonstrate different number types in Python\n",
    "#integer\n",
    "a=10\n",
    "print(a)\n",
    "#Float\n",
    "b=11.2\n",
    "print(b)\n",
    "# Complex\n",
    "c=2+1j\n",
    "print(c)\n",
    "print('\\n')\n",
    "#type function\n",
    "print(type(a))\n",
    "print(type(b))\n",
    "print(type(c))"
   ]
  },
  {
   "cell_type": "code",
   "execution_count": 2,
   "id": "e92479a9",
   "metadata": {},
   "outputs": [
    {
     "name": "stdout",
     "output_type": "stream",
     "text": [
      "15\n",
      "5\n",
      "50\n",
      "2.0\n",
      "2\n",
      "0\n"
     ]
    }
   ],
   "source": [
    "#2.\tWrite a program to perform different arithmetic operations on numbers\n",
    "x=10\n",
    "y=5\n",
    "# Addition\n",
    "print(x+y)\n",
    "# Subraction\n",
    "print(x-y)\n",
    "# Multiplication\n",
    "print(x*y)\n",
    "# Divison but we got dicimal value\n",
    "print(x/y)\n",
    "# Division but we got number only\n",
    "print(x//y)\n",
    "# Modulu we got Quotient\n",
    "print(x%y)"
   ]
  },
  {
   "cell_type": "code",
   "execution_count": 3,
   "id": "7e1096f6",
   "metadata": {},
   "outputs": [
    {
     "name": "stdout",
     "output_type": "stream",
     "text": [
      "Python world\n",
      " world\n"
     ]
    }
   ],
   "source": [
    "#3.\tWrite a program to create, concatenate and print a string and accessing sub-string from a given string\n",
    "first_name=\"Python\"\n",
    "Last_name=\"world\"\n",
    "full_name=first_name+\" \"+Last_name\n",
    "sub_string=full_name[6:]\n",
    "print(full_name)\n",
    "print(sub_string)"
   ]
  },
  {
   "cell_type": "code",
   "execution_count": 4,
   "id": "d209551b",
   "metadata": {},
   "outputs": [
    {
     "name": "stdout",
     "output_type": "stream",
     "text": [
      "Mon Apr 03 07:36:04 IST 2023\n"
     ]
    }
   ],
   "source": [
    "# 4.\tWrite a python script to print the current date in the following format – “Sun Jan 15 18:30:30 IST 2023”\n",
    "import datetime\n",
    "current=datetime.datetime.now()\n",
    "formatted=current.strftime(\"%a %b %d %H:%M:%S IST %Y\")\n",
    "print(formatted)"
   ]
  },
  {
   "cell_type": "code",
   "execution_count": 5,
   "id": "dcb1427c",
   "metadata": {},
   "outputs": [
    {
     "name": "stdout",
     "output_type": "stream",
     "text": [
      "[1, 2, 3]\n",
      "\n",
      "\n",
      "[1, 2, 3, 4]\n",
      "\n",
      "\n",
      "[2, 3, 4]\n"
     ]
    }
   ],
   "source": [
    "#5.\tWrite a program to create, append and remove elements from the list\n",
    "# create list\n",
    "l=[1,2,3]\n",
    "print(l)\n",
    "#append the list\n",
    "print('\\n')\n",
    "l.append(4)\n",
    "print(l)\n",
    "#remove\n",
    "print('\\n')\n",
    "l.remove(1)\n",
    "print(l)"
   ]
  },
  {
   "cell_type": "code",
   "execution_count": 6,
   "id": "359d0e03",
   "metadata": {},
   "outputs": [
    {
     "name": "stdout",
     "output_type": "stream",
     "text": [
      "[1, 2, 3, 4]\n",
      "[2, 3, 4]\n",
      "(2, 3, 4)\n"
     ]
    }
   ],
   "source": [
    "#6.\tWrite a program to demonstrate working with Tuples – All operations possible with Tuple\n",
    "# create tuple\n",
    "t=(1,2,3)\n",
    "#but we need to perform the operations then convert the tuple into list\n",
    "li=list(t)\n",
    "#performing operations\n",
    "#append\n",
    "li.append(4)\n",
    "print(li)\n",
    "# remove\n",
    "li.remove(1)\n",
    "print(li)\n",
    "# again convert the list into tuple then we got the tuple\n",
    "t=tuple(li)\n",
    "print(t)\n"
   ]
  },
  {
   "cell_type": "code",
   "execution_count": 7,
   "id": "a5fa6b0b",
   "metadata": {},
   "outputs": [
    {
     "name": "stdout",
     "output_type": "stream",
     "text": [
      "{'A': 'Apple', 'B': 'Ball', 'C': 'Cat'}\n",
      "dict_keys(['A', 'B', 'C'])\n",
      "dict_values(['Apple', 'Ball', 'Cat'])\n",
      "{'A': 'Apple', 'B': 'Ball'}\n"
     ]
    }
   ],
   "source": [
    "# 7.\tWrite a program to demonstrate working with Dictionary – All operations possible with Dictionary\n",
    "# create dictionary\n",
    "d={'A':\"Apple\",\"B\":\"Ball\"}\n",
    "# Update dict\n",
    "d[\"C\"]='Cat'\n",
    "print(d)\n",
    "#keys\n",
    "print(d.keys())\n",
    "#Values\n",
    "print(d.values())\n",
    "# delete\n",
    "del d['C']\n",
    "print(d)"
   ]
  },
  {
   "cell_type": "code",
   "execution_count": 8,
   "id": "f9f836d8",
   "metadata": {},
   "outputs": [
    {
     "name": "stdout",
     "output_type": "stream",
     "text": [
      "Enter the name : Jython\n",
      "['J']\n",
      "['y']\n",
      "['t']\n",
      "['h']\n",
      "['o']\n",
      "['n']\n"
     ]
    }
   ],
   "source": [
    "# 8.\tWrite a Python program to convert a string to a list.\n",
    "name =input(\"Enter the name : \")\n",
    "for names in name:\n",
    "    print(names.split(\",\"),end='\\n')"
   ]
  },
  {
   "cell_type": "code",
   "execution_count": 9,
   "id": "dd46864d",
   "metadata": {},
   "outputs": [
    {
     "name": "stdout",
     "output_type": "stream",
     "text": [
      "['Red', 'Orange', 'Green', 'Orange', 'White']\n"
     ]
    }
   ],
   "source": [
    "#9.\tWrite a Python program to remove words from a given list of strings containing a character or string.\n",
    "#Original list:\n",
    "#New list:\n",
    "#['Red', '', 'Green', 'Orange', 'White']\n",
    "\n",
    "list1=['Red color', 'Orange#', 'Green', 'Orange @', 'White']\n",
    "char_list=[\"#\",\"color\",\"@\"]\n",
    "new_list=[]\n",
    "for li in list1:\n",
    "    for char in char_list:\n",
    "        li=li.replace(char,\"\")\n",
    "    new_list.append(li.strip())\n",
    "print(new_list)"
   ]
  },
  {
   "cell_type": "code",
   "execution_count": 30,
   "id": "7b66ea7d",
   "metadata": {},
   "outputs": [
    {
     "name": "stdout",
     "output_type": "stream",
     "text": [
      "Enter name the word : PYTHON\n",
      "Given P are consonant\n",
      "Given Y are consonant\n",
      "Given T are consonant\n",
      "Given H are consonant\n",
      "Given O are consonant\n",
      "Given N are consonant\n"
     ]
    }
   ],
   "source": [
    "# 10.\tWrite a Python program to check whether an alphabet is a vowel or consonant Expected Output:\n",
    "# Input a letter of the alphabet: k \n",
    "# k is a consonant.\n",
    "word=input(\"Enter name the word : \")\n",
    "for words in word:\n",
    "    if words in ['a','i','e','o','u']:\n",
    "        print(f'Given {words} are vowels')\n",
    "    else:\n",
    "        print(f'Given {words} are consonant')"
   ]
  },
  {
   "cell_type": "code",
   "execution_count": 11,
   "id": "a3d1c375",
   "metadata": {},
   "outputs": [
    {
     "name": "stdout",
     "output_type": "stream",
     "text": [
      "Enter the first name :Java\n",
      "Enter the last name :Python\n",
      "full_name :  Java7Python\n"
     ]
    }
   ],
   "source": [
    "# 11.\tConcat two components in Python, take two user input and concat the two elements using 7 in between\n",
    "fist_name=input(\"Enter the first name :\")\n",
    "lst_name=input(\"Enter the last name :\")\n",
    "fu_name=fist_name+str(7)+lst_name\n",
    "print(f'full_name :  {fu_name}')"
   ]
  },
  {
   "cell_type": "code",
   "execution_count": 12,
   "id": "ef5aed39",
   "metadata": {},
   "outputs": [
    {
     "name": "stdout",
     "output_type": "stream",
     "text": [
      "Enter the first name :Java\n",
      "Enter the last name :Python\n",
      "full_name :  Java7Python\n",
      "separate_name : ['Java', 'Python']\n"
     ]
    }
   ],
   "source": [
    "# 12.\tTaking the output from the above question, separate the string into two separate elements\n",
    "fist_name=input(\"Enter the first name :\")\n",
    "lst_name=input(\"Enter the last name :\")\n",
    "fu_name=fist_name+str(7)+lst_name\n",
    "seprate=fu_name.split('7')\n",
    "print(f'full_name :  {fu_name}')\n",
    "print(f'separate_name : {seprate}')"
   ]
  },
  {
   "cell_type": "code",
   "execution_count": 34,
   "id": "9ead936a",
   "metadata": {},
   "outputs": [
    {
     "name": "stdout",
     "output_type": "stream",
     "text": [
      "Enter the Element1\n",
      "Enter the Element2\n",
      "Enter the Element3\n",
      "Enter the Element4\n",
      "Enter the Element5\n",
      "Enter the Element6\n",
      "Enter the Element7\n",
      "Enter the Element8\n",
      "Enter the Element9\n",
      "Enter the Element10\n",
      "[1, 2, 3, 4, 5, 6, 7, 8, 9, 10]\n",
      "----------------------------------------------------\n",
      "the output 2 nd element to 8 th element [2, 3, 4, 5, 6, 7, 8]\n",
      "All even elements [2, 4, 6, 8, 10]\n",
      "All odd elements [1, 3, 5, 7, 9]\n",
      "All reverse of the list [10, 9, 8, 7, 6, 5, 4, 3, 2, 1]\n"
     ]
    }
   ],
   "source": [
    "# 13.\tCreate a list having 10 elements, use user input to build the list.\n",
    "# •\tOutput 2nd element to 8th element\n",
    "# •\tOuput all even elements\n",
    "# •\tOutput all odd elements\n",
    "# •\tOutput reverse of the list\n",
    "my_list=[]\n",
    "for i in range(1,11):\n",
    "    element=int(input(\"Enter the Element : \"))\n",
    "    my_list.append(element)\n",
    "print(my_list)\n",
    "print(\"----------------------------------------------------\")\n",
    "print(\"the output 2 nd element to 8 th element\",my_list[1:8])\n",
    "print(\"All even elements\",my_list[1:10:2])\n",
    "print(\"All odd elements\",my_list[::2])\n",
    "print(\"All reverse of the list\",my_list[::-1])"
   ]
  },
  {
   "cell_type": "code",
   "execution_count": 16,
   "id": "ba463f54",
   "metadata": {},
   "outputs": [
    {
     "name": "stdout",
     "output_type": "stream",
     "text": [
      "{'Maharashtra': 'Mumbai', 'UP': 'Delhi', 'Telangana': 'Hyderabad', 'Karnataka': 'Bangalore', 'Tamil Nadu': 'Chennai'}\n"
     ]
    }
   ],
   "source": [
    "# 14.\tCreate a dictionary with any 5 states of India, States as Key and top 5 city as values\n",
    "city={\"Maharashtra\":\"Mumbai\",\"UP\":\"Delhi\",\"Telangana\":\"Hyderabad\",\"Karnataka\":\"Bangalore\",\"Tamil Nadu\":\"Chennai\"}\n",
    "print(city)"
   ]
  },
  {
   "cell_type": "code",
   "execution_count": 18,
   "id": "f39f4432",
   "metadata": {},
   "outputs": [
    {
     "name": "stdout",
     "output_type": "stream",
     "text": [
      "{'Maharashtra': 'Mumbai', 'UP': 'Delhi', 'Telangana': 'Hyderabad', 'Karnataka': 'Bangalore', 'Tamil Nadu': 'Chennai', 'Gujarat': 'Ahmedabad'}\n"
     ]
    }
   ],
   "source": [
    "# 15.\tUse Output from 14, to add a new state key along with cities associated with it\n",
    "city[\"Gujarat\"]='Ahmedabad'\n",
    "print(city)"
   ]
  },
  {
   "cell_type": "code",
   "execution_count": 19,
   "id": "541076ef",
   "metadata": {},
   "outputs": [
    {
     "name": "stdout",
     "output_type": "stream",
     "text": [
      "['A', 'B', 'C', 'D', 'A', 'B', 'C', 'D', 'A', 'B', 'C', 'D', 'A', 'B', 'C', 'D', 'A', 'B', 'C', 'D']\n"
     ]
    }
   ],
   "source": [
    "# 16.\tCreate a list using first 5 Alphabets (A,B,C,D,E); repeat the each elements 5 times. Do not create 2D list\n",
    "alphabets=['A','B','C','D']\n",
    "print(alphabets*5)"
   ]
  },
  {
   "cell_type": "code",
   "execution_count": 28,
   "id": "b408aebe",
   "metadata": {},
   "outputs": [
    {
     "name": "stdout",
     "output_type": "stream",
     "text": [
      "['A', 'B', 'C', 'D']\n"
     ]
    }
   ],
   "source": [
    "# 17.\tUsing the output from 16, remove duplicates from the list\n",
    "s=set(alphabets)\n",
    "Alpha=list(s)\n",
    "Alpha.sort()\n",
    "print(Alpha)"
   ]
  },
  {
   "cell_type": "code",
   "execution_count": 23,
   "id": "06107822",
   "metadata": {},
   "outputs": [
    {
     "name": "stdout",
     "output_type": "stream",
     "text": [
      "[[1, 2, 3], [1, 2, 3]]\n"
     ]
    }
   ],
   "source": [
    "# 18.\tWhat is 2D list? Demonstrate with a example\n",
    "#A 2D list, also known as a two-dimensional list, is a list of lists in Python. It is a collection of items which are arranged in a grid, with rows and columns. Each element in a 2D list is itself a list.\n",
    "# example\n",
    "num1=[1,2,3]\n",
    "num2=[1,2,3]\n",
    "num=[num1,num2]\n",
    "print(num)"
   ]
  },
  {
   "cell_type": "code",
   "execution_count": null,
   "id": "83abdb38",
   "metadata": {},
   "outputs": [],
   "source": []
  }
 ],
 "metadata": {
  "kernelspec": {
   "display_name": "Python 3 (ipykernel)",
   "language": "python",
   "name": "python3"
  },
  "language_info": {
   "codemirror_mode": {
    "name": "ipython",
    "version": 3
   },
   "file_extension": ".py",
   "mimetype": "text/x-python",
   "name": "python",
   "nbconvert_exporter": "python",
   "pygments_lexer": "ipython3",
   "version": "3.9.13"
  }
 },
 "nbformat": 4,
 "nbformat_minor": 5
}
